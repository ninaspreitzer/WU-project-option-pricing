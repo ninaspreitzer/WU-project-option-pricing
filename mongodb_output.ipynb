{
 "cells": [
  {
   "cell_type": "code",
   "execution_count": 1,
   "metadata": {},
   "outputs": [],
   "source": [
    "import os, sys\n",
    "os.environ['PYSPARK_SUBMIT_ARGS'] = '--packages org.mongodb.spark:mongo-spark-connector_2.11:2.4.0 --jars /usr/local/jar_files/spark-streaming-kafka-0-8-assembly_2.11-2.3.2.jar pyspark-shell'"
   ]
  },
  {
   "cell_type": "code",
   "execution_count": 2,
   "metadata": {},
   "outputs": [],
   "source": [
    "# Import findspark \n",
    "import findspark\n",
    "\n",
    "# Initialize and provide path\n",
    "findspark.init(\"/usr/share/spark/spark-2.3.2-bin-hadoop2.7/\")"
   ]
  },
  {
   "cell_type": "code",
   "execution_count": 3,
   "metadata": {},
   "outputs": [],
   "source": [
    "#    Spark\n",
    "from pyspark import SparkContext\n",
    "#    Spark Streaming\n",
    "from pyspark.streaming import StreamingContext\n",
    "#    Kafka\n",
    "from pyspark.streaming.kafka import KafkaUtils\n",
    "#    json parsing\n",
    "import json\n",
    "#    pprint\n",
    "import pprint"
   ]
  },
  {
   "cell_type": "code",
   "execution_count": 4,
   "metadata": {},
   "outputs": [],
   "source": [
    "# Import SparkSession\n",
    "from pyspark.sql import SparkSession\n",
    "\n",
    "spark = SparkSession.builder \\\n",
    "    .appName(\"master_consumer\") \\\n",
    "    .config(\"spark.mongodb.input.uri\", \"mongodb://localhost/stocks_db.stock_coll\") \\\n",
    "    .config(\"spark.mongodb.output.uri\", \"mongodb://localhost/stocks_db.stock_coll\") \\\n",
    "    .getOrCreate()"
   ]
  },
  {
   "cell_type": "code",
   "execution_count": 8,
   "metadata": {},
   "outputs": [
    {
     "name": "stdout",
     "output_type": "stream",
     "text": [
      "+--------------------------+----------+-----------------+------------------+------------------+----------+------+------------------------+\n",
      "|_id                       |last_price|optionPrice_atm  |optionPrice_itm   |optionPrice_otm   |prev_price|ticker|updated_on              |\n",
      "+--------------------------+----------+-----------------+------------------+------------------+----------+------+------------------------+\n",
      "|[5e3dc4931bc8b1d3421dd0b9]|319.12    |7.556598994455783|21.47261698396443 |1.5036856746231564|319.04    |AAPL  |2020-02-07T20:11:38.502Z|\n",
      "|[5e3dc4931bc8b1d3421dd0ba]|318.98    |7.553283865791883|21.47078240880245 |1.5017551015285662|318.97    |AAPL  |2020-02-07T20:11:16.144Z|\n",
      "|[5e3dc4931bc8b1d3421dd0bb]|319.04    |7.554704635219281|21.471568537716678|1.5025823808579801|318.98    |AAPL  |2020-02-07T20:11:27.532Z|\n",
      "|[5e3dc4971bc8b1d3421dd0bc]|319.12    |7.556598994455783|21.47261698396443 |1.5036856746231564|319.12    |AAPL  |2020-02-07T20:11:53.526Z|\n",
      "|[5e3dc49f1bc8b1d3421dd0be]|319.12    |7.556598994455783|21.47261698396443 |1.5036856746231564|319.12    |AAPL  |2020-02-07T20:12:04.854Z|\n",
      "|[5e3dc4af1bc8b1d3421dd0c0]|319.025   |7.554349442862446|21.47137198895001 |1.5023755456749868|319.12    |AAPL  |2020-02-07T20:12:15.822Z|\n",
      "|[5e3dc4bb1bc8b1d3421dd0c2]|319.05    |7.554941430123847|21.471699576352307|1.5027202766645829|319.025   |AAPL  |2020-02-07T20:12:27.152Z|\n",
      "|[5e3dc4c71bc8b1d3421dd0c5]|319.05    |7.554941430123847|21.471699576352307|1.5027202766645829|319.05    |AAPL  |2020-02-07T20:12:38.469Z|\n",
      "|[5e3dc4c71bc8b1d3421dd0c6]|319.045   |7.55482303267155 |21.47163405642209 |1.5026513281928402|319.05    |AAPL  |2020-02-07T20:12:49.526Z|\n",
      "|[5e3dc4d11bc8b1d3421dd0c8]|319.045   |7.55482303267155 |21.47163405642209 |1.5026513281928402|319.045   |AAPL  |2020-02-07T20:13:03.581Z|\n",
      "|[5e3dc4de1bc8b1d3421dd0ca]|319.045   |7.55482303267155 |21.47163405642209 |1.5026513281928402|319.045   |AAPL  |2020-02-07T20:13:14.517Z|\n",
      "|[5e3dc4eb1bc8b1d3421dd0cc]|318.96    |7.552810275982779|21.470520405037462|1.501479378143351 |319.045   |AAPL  |2020-02-07T20:13:25.402Z|\n",
      "|[5e3dc4f81bc8b1d3421dd0ce]|318.925   |7.551981493816783|21.4700619456288  |1.5009969060122614|318.97    |AAPL  |2020-02-07T20:13:36.274Z|\n",
      "|[5e3dc5051bc8b1d3421dd0d0]|318.925   |7.551981493816783|21.4700619456288  |1.5009969060122614|318.925   |AAPL  |2020-02-07T20:13:48.069Z|\n",
      "|[5e3dc5121bc8b1d3421dd0d2]|318.925   |7.551981493816783|21.4700619456288  |1.5009969060122614|318.925   |AAPL  |2020-02-07T20:13:59.032Z|\n",
      "|[5e3dc51f1bc8b1d3421dd0d4]|318.925   |7.551981493816783|21.4700619456288  |1.5009969060122614|318.925   |AAPL  |2020-02-07T20:14:10.075Z|\n",
      "|[5e3dc5201bc8b1d3421dd0d5]|318.89    |7.551152711650815|21.469603546277938|1.5005144896275198|318.925   |AAPL  |2020-02-07T20:14:21.044Z|\n",
      "|[5e3dc52b1bc8b1d3421dd0d7]|318.9     |7.551389506555381|21.469734511392005|1.5006523171912534|318.9     |AAPL  |2020-02-07T20:14:31.996Z|\n",
      "|[5e3dc5391bc8b1d3421dd0d9]|318.9     |7.551389506555381|21.469734511392005|1.5006523171912534|318.9     |AAPL  |2020-02-07T20:14:43.713Z|\n",
      "|[5e3dc5461bc8b1d3421dd0db]|318.96    |7.552810275982779|21.470520405037462|1.501479378143351 |318.9     |AAPL  |2020-02-07T20:14:58.241Z|\n",
      "+--------------------------+----------+-----------------+------------------+------------------+----------+------+------------------------+\n",
      "only showing top 20 rows\n",
      "\n"
     ]
    }
   ],
   "source": [
    "# create the master dataframe from the existing MongoDB database\n",
    "output = spark.read.format(\"com.mongodb.spark.sql.DefaultSource\").option(\"uri\",\n",
    "\"mongodb://localhost/stocks_db.stock_coll\").load()\n",
    "output.show(truncate=False)"
   ]
  },
  {
   "cell_type": "code",
   "execution_count": 9,
   "metadata": {},
   "outputs": [
    {
     "name": "stdout",
     "output_type": "stream",
     "text": [
      "+-------+------------------+-----------------+------------------+------------------+------------------+------+--------------------+\n",
      "|summary|        last_price|  optionPrice_atm|   optionPrice_itm|   optionPrice_otm|        prev_price|ticker|          updated_on|\n",
      "+-------+------------------+-----------------+------------------+------------------+------------------+------+--------------------+\n",
      "|  count|               261|              261|               261|               261|               261|   261|                 261|\n",
      "|   mean|350.11047892720325|8.290437744452683|22.047566685117218| 2.087303765980238| 350.1055363984677|  null|                null|\n",
      "| stddev|110.68572629322276|2.620981599423343| 2.054161855621807|2.0850718541087314|110.67588307452777|  null|                null|\n",
      "|    min|            318.25|7.535997837758686|21.461231990585134|1.4917030046260606|            318.25|  AAPL|2020-02-07T20:11:...|\n",
      "|    max|            744.96|17.64027321042181|29.377021682197665| 9.526912343562657|            744.96|  TSLA|2020-02-07T21:00:...|\n",
      "+-------+------------------+-----------------+------------------+------------------+------------------+------+--------------------+\n",
      "\n"
     ]
    }
   ],
   "source": [
    "output.describe().show()"
   ]
  }
 ],
 "metadata": {
  "kernelspec": {
   "display_name": "Python 3",
   "language": "python",
   "name": "python3"
  },
  "language_info": {
   "codemirror_mode": {
    "name": "ipython",
    "version": 3
   },
   "file_extension": ".py",
   "mimetype": "text/x-python",
   "name": "python",
   "nbconvert_exporter": "python",
   "pygments_lexer": "ipython3",
   "version": "3.7.4"
  }
 },
 "nbformat": 4,
 "nbformat_minor": 2
}
